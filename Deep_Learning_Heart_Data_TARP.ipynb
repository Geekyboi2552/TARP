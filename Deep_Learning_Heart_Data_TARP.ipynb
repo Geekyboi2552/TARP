{
  "nbformat": 4,
  "nbformat_minor": 0,
  "metadata": {
    "colab": {
      "provenance": []
    },
    "kernelspec": {
      "name": "python3",
      "display_name": "Python 3"
    },
    "language_info": {
      "name": "python"
    }
  },
  "cells": [
    {
      "cell_type": "code",
      "source": [
        "from google.colab import files\n",
        "uploaded = files.upload()"
      ],
      "metadata": {
        "colab": {
          "base_uri": "https://localhost:8080/",
          "height": 73
        },
        "id": "Hwklmv2YhWQQ",
        "outputId": "c8894c29-6a0c-4cbf-c94a-58bdb25342c9"
      },
      "execution_count": 1,
      "outputs": [
        {
          "output_type": "display_data",
          "data": {
            "text/plain": [
              "<IPython.core.display.HTML object>"
            ],
            "text/html": [
              "\n",
              "     <input type=\"file\" id=\"files-fca1d474-0a9e-49b8-b28b-5c07d5c8595e\" name=\"files[]\" multiple disabled\n",
              "        style=\"border:none\" />\n",
              "     <output id=\"result-fca1d474-0a9e-49b8-b28b-5c07d5c8595e\">\n",
              "      Upload widget is only available when the cell has been executed in the\n",
              "      current browser session. Please rerun this cell to enable.\n",
              "      </output>\n",
              "      <script>// Copyright 2017 Google LLC\n",
              "//\n",
              "// Licensed under the Apache License, Version 2.0 (the \"License\");\n",
              "// you may not use this file except in compliance with the License.\n",
              "// You may obtain a copy of the License at\n",
              "//\n",
              "//      http://www.apache.org/licenses/LICENSE-2.0\n",
              "//\n",
              "// Unless required by applicable law or agreed to in writing, software\n",
              "// distributed under the License is distributed on an \"AS IS\" BASIS,\n",
              "// WITHOUT WARRANTIES OR CONDITIONS OF ANY KIND, either express or implied.\n",
              "// See the License for the specific language governing permissions and\n",
              "// limitations under the License.\n",
              "\n",
              "/**\n",
              " * @fileoverview Helpers for google.colab Python module.\n",
              " */\n",
              "(function(scope) {\n",
              "function span(text, styleAttributes = {}) {\n",
              "  const element = document.createElement('span');\n",
              "  element.textContent = text;\n",
              "  for (const key of Object.keys(styleAttributes)) {\n",
              "    element.style[key] = styleAttributes[key];\n",
              "  }\n",
              "  return element;\n",
              "}\n",
              "\n",
              "// Max number of bytes which will be uploaded at a time.\n",
              "const MAX_PAYLOAD_SIZE = 100 * 1024;\n",
              "\n",
              "function _uploadFiles(inputId, outputId) {\n",
              "  const steps = uploadFilesStep(inputId, outputId);\n",
              "  const outputElement = document.getElementById(outputId);\n",
              "  // Cache steps on the outputElement to make it available for the next call\n",
              "  // to uploadFilesContinue from Python.\n",
              "  outputElement.steps = steps;\n",
              "\n",
              "  return _uploadFilesContinue(outputId);\n",
              "}\n",
              "\n",
              "// This is roughly an async generator (not supported in the browser yet),\n",
              "// where there are multiple asynchronous steps and the Python side is going\n",
              "// to poll for completion of each step.\n",
              "// This uses a Promise to block the python side on completion of each step,\n",
              "// then passes the result of the previous step as the input to the next step.\n",
              "function _uploadFilesContinue(outputId) {\n",
              "  const outputElement = document.getElementById(outputId);\n",
              "  const steps = outputElement.steps;\n",
              "\n",
              "  const next = steps.next(outputElement.lastPromiseValue);\n",
              "  return Promise.resolve(next.value.promise).then((value) => {\n",
              "    // Cache the last promise value to make it available to the next\n",
              "    // step of the generator.\n",
              "    outputElement.lastPromiseValue = value;\n",
              "    return next.value.response;\n",
              "  });\n",
              "}\n",
              "\n",
              "/**\n",
              " * Generator function which is called between each async step of the upload\n",
              " * process.\n",
              " * @param {string} inputId Element ID of the input file picker element.\n",
              " * @param {string} outputId Element ID of the output display.\n",
              " * @return {!Iterable<!Object>} Iterable of next steps.\n",
              " */\n",
              "function* uploadFilesStep(inputId, outputId) {\n",
              "  const inputElement = document.getElementById(inputId);\n",
              "  inputElement.disabled = false;\n",
              "\n",
              "  const outputElement = document.getElementById(outputId);\n",
              "  outputElement.innerHTML = '';\n",
              "\n",
              "  const pickedPromise = new Promise((resolve) => {\n",
              "    inputElement.addEventListener('change', (e) => {\n",
              "      resolve(e.target.files);\n",
              "    });\n",
              "  });\n",
              "\n",
              "  const cancel = document.createElement('button');\n",
              "  inputElement.parentElement.appendChild(cancel);\n",
              "  cancel.textContent = 'Cancel upload';\n",
              "  const cancelPromise = new Promise((resolve) => {\n",
              "    cancel.onclick = () => {\n",
              "      resolve(null);\n",
              "    };\n",
              "  });\n",
              "\n",
              "  // Wait for the user to pick the files.\n",
              "  const files = yield {\n",
              "    promise: Promise.race([pickedPromise, cancelPromise]),\n",
              "    response: {\n",
              "      action: 'starting',\n",
              "    }\n",
              "  };\n",
              "\n",
              "  cancel.remove();\n",
              "\n",
              "  // Disable the input element since further picks are not allowed.\n",
              "  inputElement.disabled = true;\n",
              "\n",
              "  if (!files) {\n",
              "    return {\n",
              "      response: {\n",
              "        action: 'complete',\n",
              "      }\n",
              "    };\n",
              "  }\n",
              "\n",
              "  for (const file of files) {\n",
              "    const li = document.createElement('li');\n",
              "    li.append(span(file.name, {fontWeight: 'bold'}));\n",
              "    li.append(span(\n",
              "        `(${file.type || 'n/a'}) - ${file.size} bytes, ` +\n",
              "        `last modified: ${\n",
              "            file.lastModifiedDate ? file.lastModifiedDate.toLocaleDateString() :\n",
              "                                    'n/a'} - `));\n",
              "    const percent = span('0% done');\n",
              "    li.appendChild(percent);\n",
              "\n",
              "    outputElement.appendChild(li);\n",
              "\n",
              "    const fileDataPromise = new Promise((resolve) => {\n",
              "      const reader = new FileReader();\n",
              "      reader.onload = (e) => {\n",
              "        resolve(e.target.result);\n",
              "      };\n",
              "      reader.readAsArrayBuffer(file);\n",
              "    });\n",
              "    // Wait for the data to be ready.\n",
              "    let fileData = yield {\n",
              "      promise: fileDataPromise,\n",
              "      response: {\n",
              "        action: 'continue',\n",
              "      }\n",
              "    };\n",
              "\n",
              "    // Use a chunked sending to avoid message size limits. See b/62115660.\n",
              "    let position = 0;\n",
              "    do {\n",
              "      const length = Math.min(fileData.byteLength - position, MAX_PAYLOAD_SIZE);\n",
              "      const chunk = new Uint8Array(fileData, position, length);\n",
              "      position += length;\n",
              "\n",
              "      const base64 = btoa(String.fromCharCode.apply(null, chunk));\n",
              "      yield {\n",
              "        response: {\n",
              "          action: 'append',\n",
              "          file: file.name,\n",
              "          data: base64,\n",
              "        },\n",
              "      };\n",
              "\n",
              "      let percentDone = fileData.byteLength === 0 ?\n",
              "          100 :\n",
              "          Math.round((position / fileData.byteLength) * 100);\n",
              "      percent.textContent = `${percentDone}% done`;\n",
              "\n",
              "    } while (position < fileData.byteLength);\n",
              "  }\n",
              "\n",
              "  // All done.\n",
              "  yield {\n",
              "    response: {\n",
              "      action: 'complete',\n",
              "    }\n",
              "  };\n",
              "}\n",
              "\n",
              "scope.google = scope.google || {};\n",
              "scope.google.colab = scope.google.colab || {};\n",
              "scope.google.colab._files = {\n",
              "  _uploadFiles,\n",
              "  _uploadFilesContinue,\n",
              "};\n",
              "})(self);\n",
              "</script> "
            ]
          },
          "metadata": {}
        },
        {
          "output_type": "stream",
          "name": "stdout",
          "text": [
            "Saving heart.csv to heart.csv\n"
          ]
        }
      ]
    },
    {
      "cell_type": "code",
      "execution_count": 2,
      "metadata": {
        "colab": {
          "base_uri": "https://localhost:8080/"
        },
        "id": "uyTjv6rEsyWx",
        "outputId": "628ed7d4-4d92-494a-883a-18e7c5607f27"
      },
      "outputs": [
        {
          "output_type": "stream",
          "name": "stdout",
          "text": [
            "<class 'pandas.core.frame.DataFrame'>\n",
            "RangeIndex: 303 entries, 0 to 302\n",
            "Data columns (total 14 columns):\n",
            " #   Column    Non-Null Count  Dtype  \n",
            "---  ------    --------------  -----  \n",
            " 0   age       303 non-null    int64  \n",
            " 1   sex       303 non-null    int64  \n",
            " 2   cp        303 non-null    int64  \n",
            " 3   trtbps    303 non-null    int64  \n",
            " 4   chol      303 non-null    int64  \n",
            " 5   fbs       303 non-null    int64  \n",
            " 6   restecg   303 non-null    int64  \n",
            " 7   thalachh  303 non-null    int64  \n",
            " 8   exng      303 non-null    int64  \n",
            " 9   oldpeak   303 non-null    float64\n",
            " 10  slp       303 non-null    int64  \n",
            " 11  caa       303 non-null    int64  \n",
            " 12  thall     303 non-null    int64  \n",
            " 13  output    303 non-null    int64  \n",
            "dtypes: float64(1), int64(13)\n",
            "memory usage: 33.3 KB\n"
          ]
        },
        {
          "output_type": "execute_result",
          "data": {
            "text/plain": [
              "(303, 14)"
            ]
          },
          "metadata": {},
          "execution_count": 2
        }
      ],
      "source": [
        "import numpy as np\n",
        "import scipy\n",
        "from scipy import stats\n",
        "import pandas as pd\n",
        "import seaborn as sns\n",
        "import tensorflow as tf\n",
        "from tensorflow import keras\n",
        "data1 = pd.read_csv(\"heart.csv\")\n",
        "data1.info()\n",
        "data1.shape\n",
        "\n"
      ]
    },
    {
      "cell_type": "code",
      "source": [
        "from sklearn.model_selection import train_test_split\n",
        "data1 = data1.drop_duplicates()\n",
        "Q1 = data1.quantile(0.25)\n",
        "Q3 = data1.quantile(0.75)\n",
        "IQR = Q3-Q1\n",
        "z = np.abs(stats.zscore(data1))\n",
        "data3 = data1[(z<3).all(axis=1)]\n",
        "data3.shape\n",
        "data2 = data1[~((data1<(Q1-1.5*IQR))|(data1>(Q3+1.5*IQR))).any(axis=1)]\n",
        "data_f=data3.copy()\n",
        "x=data_f.drop(['output'],axis=1)\n",
        "y=data_f['output']\n",
        "x_train,x_test,y_train,y_test = train_test_split(x,y,test_size=0.3)"
      ],
      "metadata": {
        "id": "7S9Z7Oc7RNmd"
      },
      "execution_count": 4,
      "outputs": []
    },
    {
      "cell_type": "code",
      "source": [
        "data3"
      ],
      "metadata": {
        "id": "x1e9m7_8R9Zk"
      },
      "execution_count": null,
      "outputs": []
    },
    {
      "cell_type": "code",
      "source": [
        "model = tf.keras.models.Sequential()\n",
        "model.add(tf.keras.layers.Dense(200, activation='relu', input_dim=13))\n",
        "model.add(tf.keras.layers.Dense(100, activation='relu'))\n",
        "model.add(tf.keras.layers.Dense(50, activation='relu'))\n",
        "model.add(tf.keras.layers.Dense(10, activation='relu'))\n",
        "model.add(tf.keras.layers.Dense(1, activation='sigmoid'))\n"
      ],
      "metadata": {
        "id": "ufNBflH2N9Zu"
      },
      "execution_count": 86,
      "outputs": []
    },
    {
      "cell_type": "code",
      "source": [
        "model.compile(optimizer=\"adam\",loss=\"binary_crossentropy\",metrics=[\"accuracy\"])\n",
        "history=model.fit(x_train,y_train,epochs=85)"
      ],
      "metadata": {
        "colab": {
          "base_uri": "https://localhost:8080/"
        },
        "id": "oDRLUISWP90H",
        "outputId": "d065fa71-ecfe-4862-af58-f8b7764c10d2"
      },
      "execution_count": 93,
      "outputs": [
        {
          "output_type": "stream",
          "name": "stdout",
          "text": [
            "Epoch 1/85\n",
            "7/7 [==============================] - 3s 4ms/step - loss: 0.7734 - accuracy: 0.6950\n",
            "Epoch 2/85\n",
            "7/7 [==============================] - 0s 5ms/step - loss: 0.6089 - accuracy: 0.7750\n",
            "Epoch 3/85\n",
            "7/7 [==============================] - 0s 5ms/step - loss: 0.3949 - accuracy: 0.8200\n",
            "Epoch 4/85\n",
            "7/7 [==============================] - 0s 4ms/step - loss: 0.3366 - accuracy: 0.8700\n",
            "Epoch 5/85\n",
            "7/7 [==============================] - 0s 4ms/step - loss: 0.3355 - accuracy: 0.8600\n",
            "Epoch 6/85\n",
            "7/7 [==============================] - 0s 4ms/step - loss: 0.3440 - accuracy: 0.8300\n",
            "Epoch 7/85\n",
            "7/7 [==============================] - 0s 4ms/step - loss: 0.3131 - accuracy: 0.8550\n",
            "Epoch 8/85\n",
            "7/7 [==============================] - 0s 5ms/step - loss: 0.3275 - accuracy: 0.8250\n",
            "Epoch 9/85\n",
            "7/7 [==============================] - 0s 4ms/step - loss: 0.3122 - accuracy: 0.8450\n",
            "Epoch 10/85\n",
            "7/7 [==============================] - 0s 4ms/step - loss: 0.3253 - accuracy: 0.8650\n",
            "Epoch 11/85\n",
            "7/7 [==============================] - 0s 4ms/step - loss: 0.3581 - accuracy: 0.8300\n",
            "Epoch 12/85\n",
            "7/7 [==============================] - 0s 4ms/step - loss: 0.3528 - accuracy: 0.8550\n",
            "Epoch 13/85\n",
            "7/7 [==============================] - 0s 4ms/step - loss: 0.3382 - accuracy: 0.8450\n",
            "Epoch 14/85\n",
            "7/7 [==============================] - 0s 4ms/step - loss: 0.3016 - accuracy: 0.8500\n",
            "Epoch 15/85\n",
            "7/7 [==============================] - 0s 5ms/step - loss: 0.3122 - accuracy: 0.8450\n",
            "Epoch 16/85\n",
            "7/7 [==============================] - 0s 5ms/step - loss: 0.3038 - accuracy: 0.8550\n",
            "Epoch 17/85\n",
            "7/7 [==============================] - 0s 5ms/step - loss: 0.3336 - accuracy: 0.8350\n",
            "Epoch 18/85\n",
            "7/7 [==============================] - 0s 5ms/step - loss: 0.3016 - accuracy: 0.8500\n",
            "Epoch 19/85\n",
            "7/7 [==============================] - 0s 4ms/step - loss: 0.3695 - accuracy: 0.8400\n",
            "Epoch 20/85\n",
            "7/7 [==============================] - 0s 4ms/step - loss: 0.3254 - accuracy: 0.8400\n",
            "Epoch 21/85\n",
            "7/7 [==============================] - 0s 4ms/step - loss: 0.3072 - accuracy: 0.8450\n",
            "Epoch 22/85\n",
            "7/7 [==============================] - 0s 4ms/step - loss: 0.3006 - accuracy: 0.8600\n",
            "Epoch 23/85\n",
            "7/7 [==============================] - 0s 4ms/step - loss: 0.3098 - accuracy: 0.8650\n",
            "Epoch 24/85\n",
            "7/7 [==============================] - 0s 4ms/step - loss: 0.3710 - accuracy: 0.8450\n",
            "Epoch 25/85\n",
            "7/7 [==============================] - 0s 4ms/step - loss: 0.2977 - accuracy: 0.8650\n",
            "Epoch 26/85\n",
            "7/7 [==============================] - 0s 4ms/step - loss: 0.3982 - accuracy: 0.8150\n",
            "Epoch 27/85\n",
            "7/7 [==============================] - 0s 6ms/step - loss: 0.5099 - accuracy: 0.7750\n",
            "Epoch 28/85\n",
            "7/7 [==============================] - 0s 4ms/step - loss: 0.4543 - accuracy: 0.7800\n",
            "Epoch 29/85\n",
            "7/7 [==============================] - 0s 5ms/step - loss: 0.4133 - accuracy: 0.8000\n",
            "Epoch 30/85\n",
            "7/7 [==============================] - 0s 5ms/step - loss: 0.3142 - accuracy: 0.8550\n",
            "Epoch 31/85\n",
            "7/7 [==============================] - 0s 4ms/step - loss: 0.3280 - accuracy: 0.8700\n",
            "Epoch 32/85\n",
            "7/7 [==============================] - 0s 4ms/step - loss: 0.5073 - accuracy: 0.7950\n",
            "Epoch 33/85\n",
            "7/7 [==============================] - 0s 4ms/step - loss: 0.4532 - accuracy: 0.7750\n",
            "Epoch 34/85\n",
            "7/7 [==============================] - 0s 5ms/step - loss: 0.3317 - accuracy: 0.8350\n",
            "Epoch 35/85\n",
            "7/7 [==============================] - 0s 5ms/step - loss: 0.3965 - accuracy: 0.8150\n",
            "Epoch 36/85\n",
            "7/7 [==============================] - 0s 6ms/step - loss: 0.3774 - accuracy: 0.8050\n",
            "Epoch 37/85\n",
            "7/7 [==============================] - 0s 5ms/step - loss: 0.3346 - accuracy: 0.8650\n",
            "Epoch 38/85\n",
            "7/7 [==============================] - 0s 4ms/step - loss: 0.3190 - accuracy: 0.8400\n",
            "Epoch 39/85\n",
            "7/7 [==============================] - 0s 4ms/step - loss: 0.3210 - accuracy: 0.8450\n",
            "Epoch 40/85\n",
            "7/7 [==============================] - 0s 5ms/step - loss: 0.3091 - accuracy: 0.8650\n",
            "Epoch 41/85\n",
            "7/7 [==============================] - 0s 4ms/step - loss: 0.3289 - accuracy: 0.8100\n",
            "Epoch 42/85\n",
            "7/7 [==============================] - 0s 4ms/step - loss: 0.3006 - accuracy: 0.8750\n",
            "Epoch 43/85\n",
            "7/7 [==============================] - 0s 4ms/step - loss: 0.3323 - accuracy: 0.8550\n",
            "Epoch 44/85\n",
            "7/7 [==============================] - 0s 5ms/step - loss: 0.3025 - accuracy: 0.8550\n",
            "Epoch 45/85\n",
            "7/7 [==============================] - 0s 5ms/step - loss: 0.4001 - accuracy: 0.8100\n",
            "Epoch 46/85\n",
            "7/7 [==============================] - 0s 4ms/step - loss: 0.3044 - accuracy: 0.8650\n",
            "Epoch 47/85\n",
            "7/7 [==============================] - 0s 4ms/step - loss: 0.3176 - accuracy: 0.8800\n",
            "Epoch 48/85\n",
            "7/7 [==============================] - 0s 5ms/step - loss: 0.3852 - accuracy: 0.8300\n",
            "Epoch 49/85\n",
            "7/7 [==============================] - 0s 4ms/step - loss: 0.3798 - accuracy: 0.8250\n",
            "Epoch 50/85\n",
            "7/7 [==============================] - 0s 4ms/step - loss: 0.3055 - accuracy: 0.8750\n",
            "Epoch 51/85\n",
            "7/7 [==============================] - 0s 4ms/step - loss: 0.4600 - accuracy: 0.7850\n",
            "Epoch 52/85\n",
            "7/7 [==============================] - 0s 4ms/step - loss: 0.5337 - accuracy: 0.7850\n",
            "Epoch 53/85\n",
            "7/7 [==============================] - 0s 5ms/step - loss: 0.6419 - accuracy: 0.7550\n",
            "Epoch 54/85\n",
            "7/7 [==============================] - 0s 4ms/step - loss: 0.5978 - accuracy: 0.7700\n",
            "Epoch 55/85\n",
            "7/7 [==============================] - 0s 5ms/step - loss: 0.4169 - accuracy: 0.8100\n",
            "Epoch 56/85\n",
            "7/7 [==============================] - 0s 4ms/step - loss: 0.3385 - accuracy: 0.8350\n",
            "Epoch 57/85\n",
            "7/7 [==============================] - 0s 4ms/step - loss: 0.3501 - accuracy: 0.8400\n",
            "Epoch 58/85\n",
            "7/7 [==============================] - 0s 4ms/step - loss: 0.3234 - accuracy: 0.8700\n",
            "Epoch 59/85\n",
            "7/7 [==============================] - 0s 4ms/step - loss: 0.3365 - accuracy: 0.8000\n",
            "Epoch 60/85\n",
            "7/7 [==============================] - 0s 5ms/step - loss: 0.3395 - accuracy: 0.8400\n",
            "Epoch 61/85\n",
            "7/7 [==============================] - 0s 5ms/step - loss: 0.4256 - accuracy: 0.8000\n",
            "Epoch 62/85\n",
            "7/7 [==============================] - 0s 5ms/step - loss: 0.3920 - accuracy: 0.8250\n",
            "Epoch 63/85\n",
            "7/7 [==============================] - 0s 5ms/step - loss: 0.3123 - accuracy: 0.8400\n",
            "Epoch 64/85\n",
            "7/7 [==============================] - 0s 4ms/step - loss: 0.3011 - accuracy: 0.8450\n",
            "Epoch 65/85\n",
            "7/7 [==============================] - 0s 5ms/step - loss: 0.2870 - accuracy: 0.8550\n",
            "Epoch 66/85\n",
            "7/7 [==============================] - 0s 5ms/step - loss: 0.3402 - accuracy: 0.8300\n",
            "Epoch 67/85\n",
            "7/7 [==============================] - 0s 4ms/step - loss: 0.2965 - accuracy: 0.8600\n",
            "Epoch 68/85\n",
            "7/7 [==============================] - 0s 5ms/step - loss: 0.3017 - accuracy: 0.8550\n",
            "Epoch 69/85\n",
            "7/7 [==============================] - 0s 4ms/step - loss: 0.2954 - accuracy: 0.8700\n",
            "Epoch 70/85\n",
            "7/7 [==============================] - 0s 5ms/step - loss: 0.2857 - accuracy: 0.8750\n",
            "Epoch 71/85\n",
            "7/7 [==============================] - 0s 4ms/step - loss: 0.2858 - accuracy: 0.8700\n",
            "Epoch 72/85\n",
            "7/7 [==============================] - 0s 5ms/step - loss: 0.2994 - accuracy: 0.8600\n",
            "Epoch 73/85\n",
            "7/7 [==============================] - 0s 4ms/step - loss: 0.2842 - accuracy: 0.8650\n",
            "Epoch 74/85\n",
            "7/7 [==============================] - 0s 5ms/step - loss: 0.2915 - accuracy: 0.8750\n",
            "Epoch 75/85\n",
            "7/7 [==============================] - 0s 5ms/step - loss: 0.3163 - accuracy: 0.8550\n",
            "Epoch 76/85\n",
            "7/7 [==============================] - 0s 5ms/step - loss: 0.3506 - accuracy: 0.8250\n",
            "Epoch 77/85\n",
            "7/7 [==============================] - 0s 6ms/step - loss: 0.2938 - accuracy: 0.8450\n",
            "Epoch 78/85\n",
            "7/7 [==============================] - 0s 5ms/step - loss: 0.3115 - accuracy: 0.8250\n",
            "Epoch 79/85\n",
            "7/7 [==============================] - 0s 4ms/step - loss: 0.3112 - accuracy: 0.8750\n",
            "Epoch 80/85\n",
            "7/7 [==============================] - 0s 4ms/step - loss: 0.3088 - accuracy: 0.8500\n",
            "Epoch 81/85\n",
            "7/7 [==============================] - 0s 4ms/step - loss: 0.3152 - accuracy: 0.8400\n",
            "Epoch 82/85\n",
            "7/7 [==============================] - 0s 4ms/step - loss: 0.2707 - accuracy: 0.8450\n",
            "Epoch 83/85\n",
            "7/7 [==============================] - 0s 5ms/step - loss: 0.3074 - accuracy: 0.8450\n",
            "Epoch 84/85\n",
            "7/7 [==============================] - 0s 5ms/step - loss: 0.2716 - accuracy: 0.8700\n",
            "Epoch 85/85\n",
            "7/7 [==============================] - 0s 5ms/step - loss: 0.2713 - accuracy: 0.8750\n"
          ]
        }
      ]
    },
    {
      "cell_type": "code",
      "source": [
        "y=model.predict(x_test)"
      ],
      "metadata": {
        "colab": {
          "base_uri": "https://localhost:8080/"
        },
        "id": "bFfFh0uPs59l",
        "outputId": "2306079f-c498-4c90-f11b-6e759fbf0ecd"
      },
      "execution_count": 94,
      "outputs": [
        {
          "output_type": "stream",
          "name": "stdout",
          "text": [
            "3/3 [==============================] - 0s 4ms/step\n"
          ]
        }
      ]
    },
    {
      "cell_type": "code",
      "source": [
        "for i in range(0,len(y)):\n",
        "  y[i]=1 if y[i]>=0.5 else 0\n",
        "y_out=[]\n",
        "for i in range(0,len(y)):\n",
        "  y_out.append(int(y[i][0]))"
      ],
      "metadata": {
        "id": "FlltaEn5tD-G"
      },
      "execution_count": 95,
      "outputs": []
    },
    {
      "cell_type": "code",
      "source": [
        "from sklearn import metrics\n",
        "confusion_matrix = metrics.confusion_matrix(y_test, y_out)"
      ],
      "metadata": {
        "id": "WcFXzZokvjyi"
      },
      "execution_count": 96,
      "outputs": []
    },
    {
      "cell_type": "code",
      "source": [
        "cm_display = metrics.ConfusionMatrixDisplay(confusion_matrix = confusion_matrix, display_labels = [False, True])\n",
        "import matplotlib.pyplot as plt\n",
        "cm_display.plot()\n",
        "plt.show()"
      ],
      "metadata": {
        "colab": {
          "base_uri": "https://localhost:8080/",
          "height": 449
        },
        "id": "TBuOT5GMv0Yw",
        "outputId": "f54eb28a-8a7f-4e71-fe31-1ba7178549d3"
      },
      "execution_count": 97,
      "outputs": [
        {
          "output_type": "display_data",
          "data": {
            "text/plain": [
              "<Figure size 640x480 with 2 Axes>"
            ],
            "image/png": "[encoded data removed]"
          },
          "metadata": {}
        }
      ]
    },
    {
      "cell_type": "code",
      "source": [
        "Accuracy = metrics.accuracy_score(y_test, y_out)\n",
        "print(\"Validation Accuracy\",Accuracy)"
      ],
      "metadata": {
        "colab": {
          "base_uri": "https://localhost:8080/"
        },
        "id": "EDKNRVGewMF3",
        "outputId": "39a7ac38-85db-43f0-c119-9cb4059df07d"
      },
      "execution_count": 98,
      "outputs": [
        {
          "output_type": "stream",
          "name": "stdout",
          "text": [
            "Validation Accuracy 0.8160919540229885\n"
          ]
        }
      ]
    }
  ]
}